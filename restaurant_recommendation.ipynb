{
  "nbformat": 4,
  "nbformat_minor": 0,
  "metadata": {
    "colab": {
      "provenance": [],
      "authorship_tag": "ABX9TyPL6xMQHsCx4hdy6E3BFqgs",
      "include_colab_link": true
    },
    "kernelspec": {
      "name": "python3",
      "display_name": "Python 3"
    },
    "language_info": {
      "name": "python"
    }
  },
  "cells": [
    {
      "cell_type": "markdown",
      "metadata": {
        "id": "view-in-github",
        "colab_type": "text"
      },
      "source": [
        "<a href=\"https://colab.research.google.com/github/dsd7888/Restaurant_Reccomendation/blob/main/restaurant_recommendation.ipynb\" target=\"_parent\"><img src=\"https://colab.research.google.com/assets/colab-badge.svg\" alt=\"Open In Colab\"/></a>"
      ]
    },
    {
      "cell_type": "code",
      "execution_count": null,
      "metadata": {
        "id": "J47ZvFqfv8jz"
      },
      "outputs": [],
      "source": [
        "import numpy as np\n",
        "import pandas as pd\n",
        "from sklearn.feature_extraction import text\n",
        "from sklearn.metrics.pairwise import cosine_similarity"
      ]
    },
    {
      "cell_type": "code",
      "source": [
        "from google.colab import files\n",
        "uploaded = files.upload()\n",
        "\n",
        "data=pd.read_csv(\"TripAdvisor_RestauarantRecommendation.csv\")"
      ],
      "metadata": {
        "colab": {
          "base_uri": "https://localhost:8080/",
          "height": 74
        },
        "id": "HJvm_du9wS8g",
        "outputId": "0fc3c6a4-02a0-41cb-8b39-1fc7beda52d8"
      },
      "execution_count": null,
      "outputs": [
        {
          "output_type": "display_data",
          "data": {
            "text/plain": [
              "<IPython.core.display.HTML object>"
            ],
            "text/html": [
              "\n",
              "     <input type=\"file\" id=\"files-31590f9f-ce5b-420d-a3a9-0ac2e74395cc\" name=\"files[]\" multiple disabled\n",
              "        style=\"border:none\" />\n",
              "     <output id=\"result-31590f9f-ce5b-420d-a3a9-0ac2e74395cc\">\n",
              "      Upload widget is only available when the cell has been executed in the\n",
              "      current browser session. Please rerun this cell to enable.\n",
              "      </output>\n",
              "      <script>// Copyright 2017 Google LLC\n",
              "//\n",
              "// Licensed under the Apache License, Version 2.0 (the \"License\");\n",
              "// you may not use this file except in compliance with the License.\n",
              "// You may obtain a copy of the License at\n",
              "//\n",
              "//      http://www.apache.org/licenses/LICENSE-2.0\n",
              "//\n",
              "// Unless required by applicable law or agreed to in writing, software\n",
              "// distributed under the License is distributed on an \"AS IS\" BASIS,\n",
              "// WITHOUT WARRANTIES OR CONDITIONS OF ANY KIND, either express or implied.\n",
              "// See the License for the specific language governing permissions and\n",
              "// limitations under the License.\n",
              "\n",
              "/**\n",
              " * @fileoverview Helpers for google.colab Python module.\n",
              " */\n",
              "(function(scope) {\n",
              "function span(text, styleAttributes = {}) {\n",
              "  const element = document.createElement('span');\n",
              "  element.textContent = text;\n",
              "  for (const key of Object.keys(styleAttributes)) {\n",
              "    element.style[key] = styleAttributes[key];\n",
              "  }\n",
              "  return element;\n",
              "}\n",
              "\n",
              "// Max number of bytes which will be uploaded at a time.\n",
              "const MAX_PAYLOAD_SIZE = 100 * 1024;\n",
              "\n",
              "function _uploadFiles(inputId, outputId) {\n",
              "  const steps = uploadFilesStep(inputId, outputId);\n",
              "  const outputElement = document.getElementById(outputId);\n",
              "  // Cache steps on the outputElement to make it available for the next call\n",
              "  // to uploadFilesContinue from Python.\n",
              "  outputElement.steps = steps;\n",
              "\n",
              "  return _uploadFilesContinue(outputId);\n",
              "}\n",
              "\n",
              "// This is roughly an async generator (not supported in the browser yet),\n",
              "// where there are multiple asynchronous steps and the Python side is going\n",
              "// to poll for completion of each step.\n",
              "// This uses a Promise to block the python side on completion of each step,\n",
              "// then passes the result of the previous step as the input to the next step.\n",
              "function _uploadFilesContinue(outputId) {\n",
              "  const outputElement = document.getElementById(outputId);\n",
              "  const steps = outputElement.steps;\n",
              "\n",
              "  const next = steps.next(outputElement.lastPromiseValue);\n",
              "  return Promise.resolve(next.value.promise).then((value) => {\n",
              "    // Cache the last promise value to make it available to the next\n",
              "    // step of the generator.\n",
              "    outputElement.lastPromiseValue = value;\n",
              "    return next.value.response;\n",
              "  });\n",
              "}\n",
              "\n",
              "/**\n",
              " * Generator function which is called between each async step of the upload\n",
              " * process.\n",
              " * @param {string} inputId Element ID of the input file picker element.\n",
              " * @param {string} outputId Element ID of the output display.\n",
              " * @return {!Iterable<!Object>} Iterable of next steps.\n",
              " */\n",
              "function* uploadFilesStep(inputId, outputId) {\n",
              "  const inputElement = document.getElementById(inputId);\n",
              "  inputElement.disabled = false;\n",
              "\n",
              "  const outputElement = document.getElementById(outputId);\n",
              "  outputElement.innerHTML = '';\n",
              "\n",
              "  const pickedPromise = new Promise((resolve) => {\n",
              "    inputElement.addEventListener('change', (e) => {\n",
              "      resolve(e.target.files);\n",
              "    });\n",
              "  });\n",
              "\n",
              "  const cancel = document.createElement('button');\n",
              "  inputElement.parentElement.appendChild(cancel);\n",
              "  cancel.textContent = 'Cancel upload';\n",
              "  const cancelPromise = new Promise((resolve) => {\n",
              "    cancel.onclick = () => {\n",
              "      resolve(null);\n",
              "    };\n",
              "  });\n",
              "\n",
              "  // Wait for the user to pick the files.\n",
              "  const files = yield {\n",
              "    promise: Promise.race([pickedPromise, cancelPromise]),\n",
              "    response: {\n",
              "      action: 'starting',\n",
              "    }\n",
              "  };\n",
              "\n",
              "  cancel.remove();\n",
              "\n",
              "  // Disable the input element since further picks are not allowed.\n",
              "  inputElement.disabled = true;\n",
              "\n",
              "  if (!files) {\n",
              "    return {\n",
              "      response: {\n",
              "        action: 'complete',\n",
              "      }\n",
              "    };\n",
              "  }\n",
              "\n",
              "  for (const file of files) {\n",
              "    const li = document.createElement('li');\n",
              "    li.append(span(file.name, {fontWeight: 'bold'}));\n",
              "    li.append(span(\n",
              "        `(${file.type || 'n/a'}) - ${file.size} bytes, ` +\n",
              "        `last modified: ${\n",
              "            file.lastModifiedDate ? file.lastModifiedDate.toLocaleDateString() :\n",
              "                                    'n/a'} - `));\n",
              "    const percent = span('0% done');\n",
              "    li.appendChild(percent);\n",
              "\n",
              "    outputElement.appendChild(li);\n",
              "\n",
              "    const fileDataPromise = new Promise((resolve) => {\n",
              "      const reader = new FileReader();\n",
              "      reader.onload = (e) => {\n",
              "        resolve(e.target.result);\n",
              "      };\n",
              "      reader.readAsArrayBuffer(file);\n",
              "    });\n",
              "    // Wait for the data to be ready.\n",
              "    let fileData = yield {\n",
              "      promise: fileDataPromise,\n",
              "      response: {\n",
              "        action: 'continue',\n",
              "      }\n",
              "    };\n",
              "\n",
              "    // Use a chunked sending to avoid message size limits. See b/62115660.\n",
              "    let position = 0;\n",
              "    do {\n",
              "      const length = Math.min(fileData.byteLength - position, MAX_PAYLOAD_SIZE);\n",
              "      const chunk = new Uint8Array(fileData, position, length);\n",
              "      position += length;\n",
              "\n",
              "      const base64 = btoa(String.fromCharCode.apply(null, chunk));\n",
              "      yield {\n",
              "        response: {\n",
              "          action: 'append',\n",
              "          file: file.name,\n",
              "          data: base64,\n",
              "        },\n",
              "      };\n",
              "\n",
              "      let percentDone = fileData.byteLength === 0 ?\n",
              "          100 :\n",
              "          Math.round((position / fileData.byteLength) * 100);\n",
              "      percent.textContent = `${percentDone}% done`;\n",
              "\n",
              "    } while (position < fileData.byteLength);\n",
              "  }\n",
              "\n",
              "  // All done.\n",
              "  yield {\n",
              "    response: {\n",
              "      action: 'complete',\n",
              "    }\n",
              "  };\n",
              "}\n",
              "\n",
              "scope.google = scope.google || {};\n",
              "scope.google.colab = scope.google.colab || {};\n",
              "scope.google.colab._files = {\n",
              "  _uploadFiles,\n",
              "  _uploadFilesContinue,\n",
              "};\n",
              "})(self);\n",
              "</script> "
            ]
          },
          "metadata": {}
        },
        {
          "output_type": "stream",
          "name": "stdout",
          "text": [
            "Saving TripAdvisor_RestauarantRecommendation.csv to TripAdvisor_RestauarantRecommendation.csv\n"
          ]
        }
      ]
    },
    {
      "cell_type": "code",
      "source": [
        "print(data.head())"
      ],
      "metadata": {
        "colab": {
          "base_uri": "https://localhost:8080/"
        },
        "id": "qB65Pc9dwbAI",
        "outputId": "aea90659-f125-4267-8ff1-46bb4a9a14db"
      },
      "execution_count": null,
      "outputs": [
        {
          "output_type": "stream",
          "name": "stdout",
          "text": [
            "                            Name       Street Address  \\\n",
            "0  Betty Lou's Seafood and Grill     318 Columbus Ave   \n",
            "1              Coach House Diner        55 State Rt 4   \n",
            "2               Table Talk Diner  2521 South Rd Ste C   \n",
            "3                    Sixty Vines     3701 Dallas Pkwy   \n",
            "4                   The Clam Bar    3914 Brewerton Rd   \n",
            "\n",
            "                       Location                                          Type  \\\n",
            "0  San Francisco, CA 94133-3908   Seafood, Vegetarian Friendly, Vegan Options   \n",
            "1     Hackensack, NJ 07601-6337          Diner, American, Vegetarian Friendly   \n",
            "2   Poughkeepsie, NY 12601-5476          American, Diner, Vegetarian Friendly   \n",
            "3          Plano, TX 75093-7777       American, Wine Bar, Vegetarian Friendly   \n",
            "4            Syracuse, NY 13212                        American, Bar, Seafood   \n",
            "\n",
            "            Reviews No of Reviews  \\\n",
            "0  4.5 of 5 bubbles   243 reviews   \n",
            "1    4 of 5 bubbles    84 reviews   \n",
            "2    4 of 5 bubbles   256 reviews   \n",
            "3  4.5 of 5 bubbles   235 reviews   \n",
            "4    4 of 5 bubbles   285 reviews   \n",
            "\n",
            "                                            Comments   Contact Number  \\\n",
            "0                                                NaN  +1 415-757-0569   \n",
            "1  Both times we were there very late, after 11 P...  +1 201-488-4999   \n",
            "2  Waitress was very friendly but a little pricey...  +1 845-849-2839   \n",
            "3  Not sure why I went there for the second time....  +1 469-620-8463   \n",
            "4  Doesn't look like much from the outside but wa...  +1 315-458-1662   \n",
            "\n",
            "                                    Trip_advisor Url  \\\n",
            "0  https://www.tripadvisor.com//Restaurant_Review...   \n",
            "1  https://www.tripadvisor.com//Restaurant_Review...   \n",
            "2  https://www.tripadvisor.com//Restaurant_Review...   \n",
            "3  https://www.tripadvisor.com//Restaurant_Review...   \n",
            "4  https://www.tripadvisor.com//Restaurant_Review...   \n",
            "\n",
            "                                        Menu Price_Range  \n",
            "0               Check The Website for a Menu    $$ - $$$  \n",
            "1               Check The Website for a Menu    $$ - $$$  \n",
            "2  http://tabletalkdiner.com/menu/breakfast/    $$ - $$$  \n",
            "3      https://sixtyvines.com/menu/plano-tx/    $$ - $$$  \n",
            "4               Check The Website for a Menu    $$ - $$$  \n"
          ]
        }
      ]
    },
    {
      "cell_type": "code",
      "source": [
        "data = data[[\"Name\", \"Type\"]]\n",
        "print(data.head())"
      ],
      "metadata": {
        "colab": {
          "base_uri": "https://localhost:8080/"
        },
        "id": "IdkF68fy0SHN",
        "outputId": "f96cc8ba-9623-4a70-da61-1f8dd5c30e26"
      },
      "execution_count": null,
      "outputs": [
        {
          "output_type": "stream",
          "name": "stdout",
          "text": [
            "                            Name                                          Type\n",
            "0  Betty Lou's Seafood and Grill   Seafood, Vegetarian Friendly, Vegan Options\n",
            "1              Coach House Diner          Diner, American, Vegetarian Friendly\n",
            "2               Table Talk Diner          American, Diner, Vegetarian Friendly\n",
            "3                    Sixty Vines       American, Wine Bar, Vegetarian Friendly\n",
            "4                   The Clam Bar                        American, Bar, Seafood\n"
          ]
        }
      ]
    },
    {
      "cell_type": "code",
      "source": [
        "print(data.isnull().sum())"
      ],
      "metadata": {
        "colab": {
          "base_uri": "https://localhost:8080/"
        },
        "id": "BAsbF4kQ0bA-",
        "outputId": "40a4a08d-265d-437e-b257-21f673aa2913"
      },
      "execution_count": null,
      "outputs": [
        {
          "output_type": "stream",
          "name": "stdout",
          "text": [
            "Name     0\n",
            "Type    13\n",
            "dtype: int64\n"
          ]
        }
      ]
    },
    {
      "cell_type": "code",
      "source": [
        "data = data.dropna()"
      ],
      "metadata": {
        "id": "puVcy87s0ugH"
      },
      "execution_count": null,
      "outputs": []
    },
    {
      "cell_type": "code",
      "source": [
        "feature = data[\"Type\"].tolist()\n",
        "tfidf = text.TfidfVectorizer(stop_words=\"english\")\n",
        "tfidf_matrix = tfidf.fit_transform(feature)\n",
        "similarity = cosine_similarity(tfidf_matrix)\n"
      ],
      "metadata": {
        "id": "GO4WjUvg0zUR"
      },
      "execution_count": null,
      "outputs": []
    },
    {
      "cell_type": "code",
      "source": [
        "indices = pd.Series(data.index, index=data['Name']).drop_duplicates()"
      ],
      "metadata": {
        "id": "3zmEKp6ECd16"
      },
      "execution_count": null,
      "outputs": []
    },
    {
      "cell_type": "code",
      "source": [
        "def restaurant_recommendation(name, similarity = similarity):\n",
        "    index = indices[name]\n",
        "    similarity_scores = list(enumerate(similarity[index]))\n",
        "    similarity_scores = sorted(similarity_scores, key=lambda x: x[1], reverse=True)\n",
        "    similarity_scores = similarity_scores[0:10]\n",
        "    restaurantindices = [i[0] for i in similarity_scores]\n",
        "    return data['Name'].iloc[restaurantindices]\n",
        "\n",
        "print(restaurant_recommendation(\"Market Grill\"))"
      ],
      "metadata": {
        "colab": {
          "base_uri": "https://localhost:8080/"
        },
        "id": "OMDw8Jr3Cit2",
        "outputId": "37d8c1e4-0572-49cd-911a-80e5c19c1057"
      },
      "execution_count": null,
      "outputs": [
        {
          "output_type": "stream",
          "name": "stdout",
          "text": [
            "23                   The Lion's Share\n",
            "154                        Houlihan's\n",
            "518            Midgley's Public House\n",
            "568                 Aspen Creek Grill\n",
            "770              Pete's Sunset Grille\n",
            "1190     Paul Martin's American Grill\n",
            "1581                   Aviation Grill\n",
            "1872                   Aviation Grill\n",
            "2193                Crest Bar & Grill\n",
            "2612    Tahoe Joe's Famous Steakhouse\n",
            "Name: Name, dtype: object\n"
          ]
        }
      ]
    },
    {
      "cell_type": "code",
      "source": [],
      "metadata": {
        "id": "L8UsfWuBCnas"
      },
      "execution_count": null,
      "outputs": []
    }
  ]
}